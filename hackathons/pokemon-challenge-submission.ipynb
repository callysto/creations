{
  "cells": [
    {
      "cell_type": "markdown",
      "metadata": {
        "id": "5XCFE1lh3kC6"
      },
      "source": [
        "![Callysto.ca Banner](https://github.com/callysto/curriculum-notebooks/blob/master/callysto-notebook-banner-top.jpg?raw=true)"
      ]
    },
    {
      "attachments": {},
      "cell_type": "markdown",
      "metadata": {
        "id": "D353PlXN3kC_"
      },
      "source": [
        "# Pokémon Challenge\n",
        "\n",
        "Submitted by: Student\n",
        "\n",
        "From school: A High School\n",
        "\n",
        "## Introduction\n",
        "\n",
        "In this notebook, I will be comparing the strongest 15 Pokémon in the categories: \"attack\", \"sp_attack\", \"defense\", \"sp_defense\", \"hp\", and \"speed\" with each other, along displaying these attributes against regular Pokémon compared to legendary Pokémon! As someone new to CS and data science, this isn't the most elaborate hackathon submission. Nonetheless, enjoy my findings!"
      ]
    },
    {
      "cell_type": "code",
      "execution_count": null,
      "metadata": {
        "id": "56wiqBLv3kDA",
        "outputId": "4ea1b61a-1603-486c-87e5-7bb2443880f9",
        "scrolled": true
      },
      "outputs": [],
      "source": [
        "# Import libraries and data\n",
        "import pandas as pd\n",
        "import plotly.express as px\n",
        "from IPython.display import YouTubeVideo\n",
        "pokemon = pd.read_csv('https://raw.githubusercontent.com/callysto/data-files/main/hackathon/pokemon.csv')\n",
        "pokemon"
      ]
    },
    {
      "cell_type": "markdown",
      "metadata": {
        "id": "kDTfyuvh3kDC"
      },
      "source": [
        "Column Descriptions:\n",
        "\n",
        "- **name**: The English name of the Pokémon\n",
        "- **japanese_name**: The Original Japanese name of the Pokémon\n",
        "- **pokedex_number**: The entry number of the Pokémon in the National Pokédex\n",
        "- **percentage_male**: The percentage of the species that are male. Blank if the Pokémon is genderless.\n",
        "- **type1**: The Primary Type of the Pokémon\n",
        "- **type2**: The Secondary Type of the Pokémon\n",
        "- **classfication**: The Classification of the Pokémon as described by the Sun and Moon Pokédex\n",
        "- **height_m**: Height of the Pokémon in metres\n",
        "- **weight_kg**: The Weight of the Pokémon in kilograms\n",
        "- **capture_rate**: Capture Rate of the Pokémon\n",
        "- **base_egg_steps**: The number of steps required to hatch an egg of the Pokémon\n",
        "- **abilities**: A stringified list of abilities that the Pokémon is capable of having\n",
        "- **experience_growth**: The Experience Growth of the Pokémon\n",
        "- **base_happiness**: Base Happiness of the Pokémon\n",
        "- **against_?**: Eighteen features that denote the amount of damage taken against an attack of a particular type\n",
        "- **hp**: The Base HP of the Pokémon\n",
        "- **attack**: The Base Attack of the Pokémon\n",
        "- **defense**: The Base Defense of the Pokémon\n",
        "- **sp_attack**: The Base Special Attack of the Pokémon\n",
        "- **sp_defense**: The Base Special Defense of the Pokémon\n",
        "- **speed**: The Base Speed of the Pokémon\n",
        "- **generation**: The numbered generation which the Pokémon was first introduced\n",
        "- **is_legendary**: Denotes if the Pokémon is legendary."
      ]
    },
    {
      "cell_type": "markdown",
      "metadata": {
        "id": "veW4NTpr3kDD"
      },
      "source": [
        "## Comparison 1: Fighting - Attacks\n",
        "\n",
        "Pokémon are always used in fighting tournaments. Let's create a chart that displays the top 15 Pokémon with the strongest Base Attack, accompanied by their Base Special Attack!"
      ]
    },
    {
      "cell_type": "code",
      "execution_count": null,
      "metadata": {
        "id": "SYNZrQX63kDD",
        "outputId": "2de53046-d37c-4e9c-934c-b536ae980a58",
        "scrolled": true
      },
      "outputs": [],
      "source": [
        "pokemon_by_attack = pokemon[[\"name\", \"attack\", \"sp_attack\"]]\n",
        "pokemon_by_attack = pokemon_by_attack.sort_values(by=[\"attack\"], ascending=False)\n",
        "pokemon_by_attack.head(15)"
      ]
    },
    {
      "cell_type": "markdown",
      "metadata": {
        "id": "Y6gbodoJ3kDE"
      },
      "source": [
        "## Visualizing the Data\n",
        "\n",
        "Let's visualize the chart by turning it into a bar graph!"
      ]
    },
    {
      "cell_type": "code",
      "execution_count": null,
      "metadata": {
        "id": "I5VPsXoy3kDE",
        "outputId": "8b9a5228-7356-49c5-cd09-25615ba6244a"
      },
      "outputs": [],
      "source": [
        "px.bar(pokemon_by_attack.head(15), x=\"name\", y=[\"attack\", \"sp_attack\"], barmode=\"group\", title=\"Top 15 Strongest Pokémon by Attack, Accompanied by Their SP Attack\")"
      ]
    },
    {
      "cell_type": "markdown",
      "metadata": {
        "id": "d1CdARZ33kDF"
      },
      "source": [
        "Interestingly, Rayquaza has the most powerful Base Special Attack despite only having the 4th strongest Base Attack. Furthermore, Heracross, having the strongest Base Attack out of all Pokémon, had the weakest Base Special Attack within the top 15 Pokémon on the graph.\n",
        "\n",
        "Now let's graph all Pokémon (within the dataset) based on their Base Attack and Base SP Attack. Furthermore, let's identify which Pokémon are legendary!"
      ]
    },
    {
      "cell_type": "code",
      "execution_count": null,
      "metadata": {
        "id": "Lnhgg_l03kDF",
        "outputId": "4b87d444-958a-4b97-a131-2beaad522834",
        "scrolled": true
      },
      "outputs": [],
      "source": [
        "px.scatter(pokemon, x='attack', y='sp_attack', color=\"is_legendary\", hover_data=['name'], title='Pokémon Attack vs SP Attack')"
      ]
    },
    {
      "cell_type": "markdown",
      "metadata": {
        "id": "-17ZRdPz3kDF"
      },
      "source": [
        "## Comparison 2: Fighting - Defense\n",
        "\n",
        "A Pokémon can't participate in a true tournament without some form of defense. Let's create a new chart that displays the top 15 Pokémon with the strongest Base Defense, accompanied by their Base Special Defense!"
      ]
    },
    {
      "cell_type": "code",
      "execution_count": null,
      "metadata": {
        "id": "ktH_cyaR3kDG",
        "outputId": "dbfb0ac2-381a-41f4-8868-7643c9e11b30",
        "scrolled": false
      },
      "outputs": [],
      "source": [
        "pokemon_by_defense = pokemon[[\"name\", \"defense\", \"sp_defense\"]]\n",
        "pokemon_by_defense = pokemon_by_defense.sort_values(by=[\"defense\"], ascending=False)\n",
        "pokemon_by_defense.head(15)"
      ]
    },
    {
      "cell_type": "markdown",
      "metadata": {
        "id": "Lm16Koz83kDG"
      },
      "source": [
        "## Visualizing the Data 2\n",
        "\n",
        "Repeating what we did with the strongest Pokémon attacks, let's do the same with the strongest Pokémon defense and comparing these variables on all Pokémon with a scatter graph!"
      ]
    },
    {
      "cell_type": "code",
      "execution_count": null,
      "metadata": {
        "id": "lJqI6bYO3kDG",
        "outputId": "1f17c724-5277-4cd4-bc2c-3a74ab0fd6cb"
      },
      "outputs": [],
      "source": [
        "px.bar(pokemon_by_defense.head(15), x=\"name\", y=[\"defense\", \"sp_defense\"], barmode=\"group\", title=\"Top 15 Strongest Pokémon by Defense, Accompanied by Their SP Defense\")"
      ]
    },
    {
      "cell_type": "code",
      "execution_count": null,
      "metadata": {
        "id": "OPs9Q6Jg3kDH",
        "outputId": "afd6dd98-6b82-4ac5-cad8-27c01a56ea3a",
        "scrolled": false
      },
      "outputs": [],
      "source": [
        "px.scatter(pokemon, x='defense', y='sp_defense', color=\"is_legendary\", hover_data=['name'], title='Pokémon Defense vs SP Defense')"
      ]
    },
    {
      "cell_type": "markdown",
      "metadata": {
        "id": "SlEovzwi3kDH"
      },
      "source": [
        "Unlike the first scatter graph, where the difference between legendary Pokémon and regular Pokémon was wider in regards to Base Attacks and Base Special Attacks, the gap is a lot closer when it comes to Base Defense and Base Special Defense"
      ]
    },
    {
      "cell_type": "markdown",
      "metadata": {
        "id": "WbFAOv6_3kDH"
      },
      "source": [
        "## Comparison 3: Fighting - HP & Speed\n",
        "\n",
        "Repeating what we did in the last 2 comparisons, let's finally see who the best Pokémon are when it comes to HP and Speed!"
      ]
    },
    {
      "cell_type": "code",
      "execution_count": null,
      "metadata": {
        "id": "bKIy9znU3kDI",
        "outputId": "b2b38031-316c-4c4b-fde3-4adf9d41d180",
        "scrolled": false
      },
      "outputs": [],
      "source": [
        "pokemon_by_remainder = pokemon[[\"name\", \"hp\", \"speed\"]]\n",
        "pokemon_by_remainder = pokemon_by_remainder.sort_values(by=[\"hp\"], ascending=False)\n",
        "pokemon_by_remainder.head(15)"
      ]
    },
    {
      "cell_type": "markdown",
      "metadata": {
        "id": "pzimVshn3kDI"
      },
      "source": [
        "## Visualizing the Data 3"
      ]
    },
    {
      "cell_type": "code",
      "execution_count": null,
      "metadata": {
        "id": "2CdM5jti3kDI",
        "outputId": "666998bb-c82a-46e3-9a51-d2685da71937"
      },
      "outputs": [],
      "source": [
        "px.bar(pokemon_by_remainder.head(15), x=\"name\", y=[\"hp\", \"speed\"], barmode=\"group\", title=\"Top 15 Strongest Pokémon by HP, Accompanied by Their Speed\")"
      ]
    },
    {
      "cell_type": "markdown",
      "metadata": {
        "id": "Hsb7QQrB3kDI"
      },
      "source": [
        "Not surprisingly, there seems to be somewhat of a correlation between a Pokémons HP, and their Speed. This may be because a Pokémon with more HP would be more heavy and typically slower than other types of Pokémon. Such a hypothesis is supported with Pokémon like Blissey, Chansey, and Guzzlord having high HP but low Speed."
      ]
    },
    {
      "cell_type": "code",
      "execution_count": null,
      "metadata": {
        "id": "JX-3nk0I3kDJ",
        "outputId": "d6fefe50-95bb-4e8b-f782-5cbe800bf48d",
        "scrolled": false
      },
      "outputs": [],
      "source": [
        "px.scatter(pokemon, x='hp', y='speed', color=\"is_legendary\", hover_data=['name'], title='Pokémon HP vs Speed')"
      ]
    },
    {
      "cell_type": "markdown",
      "metadata": {
        "id": "CY6EzoQp3kDJ"
      },
      "source": [
        "## Hackathon Reflections\n",
        "\n",
        "- **What is something you learned through this process?**\n",
        "- I learned a significant amount of Python code while participating in this hackathon! As a student who has never had any experience with data science and coding in general, this hackathon has given me a new opportunity to learn how data science works, along with helping me improve my Python coding skills (one way or another).\n",
        "- **How well did your group work together? Why do you think that is?**\n",
        "- As I worked by myself, this question doesn't apply to me.\n",
        "- **What were some of the hardest parts?**\n",
        "- Learning how to properly graph my charts and graphs was always an issue for me. For example, figuring out how to create the duel graph comparing Attack and SP Attack.\n",
        "- **What are you proud of? What would you like to show others?**\n",
        "- I feel extremely proud that I even participated in the hackathon in the first place. I'm sure my notebook isn't the most detailed considering a few of my friends are wonders ahead of me with coding experience. That, along with having to google how to do things with pandas. However, I'm proud of the Pokémon notebooks I've created on my own.\n",
        "- **Are you curious about anything else related to this? Did anything surprise you?**\n",
        "- With this hackathon, I'm curious about Jupyter and Python in the realm of data science. While it wasn't a surprise, I still found it slightly challenging (in a fun way) to create this. I wonder how hard data science can really get in the new world.\n",
        "- **How can you apply your learning to future activities?**\n",
        "- In can apply my learning in my future Computer Science (AP) classes at school, along with creating personal projects to further grow my coding expertise!"
      ]
    },
    {
      "cell_type": "markdown",
      "metadata": {
        "id": "MGT1R_Fj3kDJ"
      },
      "source": [
        "[![Callysto.ca License](https://github.com/callysto/curriculum-notebooks/blob/master/callysto-notebook-banner-bottom.jpg?raw=true)](https://github.com/callysto/curriculum-notebooks/blob/master/LICENSE.md)"
      ]
    }
  ],
  "metadata": {
    "celltoolbar": "Raw Cell Format",
    "colab": {
      "provenance": []
    },
    "kernelspec": {
      "display_name": "Python 3 (ipykernel)",
      "language": "python",
      "name": "python3"
    },
    "language_info": {
      "codemirror_mode": {
        "name": "ipython",
        "version": 3
      },
      "file_extension": ".py",
      "mimetype": "text/x-python",
      "name": "python",
      "nbconvert_exporter": "python",
      "pygments_lexer": "ipython3",
      "version": "3.10.8"
    },
    "latex_envs": {
      "LaTeX_envs_menu_present": true,
      "autoclose": false,
      "autocomplete": true,
      "bibliofile": "biblio.bib",
      "cite_by": "apalike",
      "current_citInitial": 1,
      "eqLabelWithNumbers": true,
      "eqNumInitial": 1,
      "hotkeys": {
        "equation": "Ctrl-E",
        "itemize": "Ctrl-I"
      },
      "labels_anchors": false,
      "latex_user_defs": false,
      "report_style_numbering": false,
      "user_envs_cfg": false
    },
    "nbTranslate": {
      "displayLangs": [
        "*"
      ],
      "hotkey": "alt-t",
      "langInMainMenu": true,
      "sourceLang": "en",
      "targetLang": "fr",
      "useGoogleTranslate": true
    },
    "vscode": {
      "interpreter": {
        "hash": "d1ca6d17674200220921376aaeb3d36cffe15ecab2470a9a5e7a456cdbf61425"
      }
    }
  },
  "nbformat": 4,
  "nbformat_minor": 0
}

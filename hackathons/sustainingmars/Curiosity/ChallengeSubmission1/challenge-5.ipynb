{
 "cells": [
  {
   "cell_type": "markdown",
   "metadata": {},
   "source": [
    "![Callysto.ca Banner](https://github.com/callysto/curriculum-notebooks/blob/master/callysto-notebook-banner-top.jpg?raw=true)\n",
    "\n",
    "<a href=\"https://hub.callysto.ca/jupyter/hub/user-redirect/git-pull?repo=https%3A%2F%2Fgithub.com%2Fcallysto%2Fhackathon&branch=master&subPath=SustainabilityOnMars/CuriosityTrack/challenge-5.ipynb&depth=1\" target=\"_parent\"><img src=\"https://raw.githubusercontent.com/callysto/curriculum-notebooks/master/open-in-callysto-button.svg?sanitize=true\" width=\"123\" height=\"24\" alt=\"Open in Callysto\"/></a>"
   ]
  },
  {
   "cell_type": "markdown",
   "metadata": {},
   "source": [
    "# <p style=\"text-align: center;\"> 📌 Challenge 5: Visualizating the Data </p>\n",
    "\n",
    "Up to this point we have been using only the `pandas` library to work with data. Now, we will be using a library called `matplotlib` to make some cool charts and plots. We won't need all of `matplotlib` though, only the part of it called `pyplot`. Good Luck!\n",
    "\n",
    "![https://publicdomainvectors.org/en/free-clipart/Abacus-calculating-tool/85145.html](Images/abacus.jpg)\n",
    "\n",
    "# <p style=\"text-align: center;\"> 🌟🌟🌟🌟🌟🌟🌟🌟🌟🌟🌟🌟🌟🌟🌟🌟🌟🌟🌟🌟🌟🌟🌟🌟🌟🌟🌟🌟🌟🌟 </p>\n"
   ]
  },
  {
   "cell_type": "code",
   "execution_count": 1,
   "metadata": {},
   "outputs": [
    {
     "data": {
      "image/jpeg": "[encoded data removed]",
      "text/html": [
       "\n",
       "        <iframe\n",
       "            width=\"400\"\n",
       "            height=\"300\"\n",
       "            src=\"https://www.youtube.com/embed/gCcyJdQyvjo\"\n",
       "            frameborder=\"0\"\n",
       "            allowfullscreen\n",
       "        ></iframe>\n",
       "        "
      ],
      "text/plain": [
       "<IPython.lib.display.YouTubeVideo at 0x7f5bf14f6280>"
      ]
     },
     "execution_count": 1,
     "metadata": {},
     "output_type": "execute_result"
    }
   ],
   "source": [
    "#❗️Run this cell\n",
    "import interactive as i\n",
    "from IPython.display import YouTubeVideo\n",
    "YouTubeVideo('gCcyJdQyvjo')"
   ]
  },
  {
   "cell_type": "code",
   "execution_count": 2,
   "metadata": {},
   "outputs": [
    {
     "name": "stdout",
     "output_type": "stream",
     "text": [
      "\u001b[1;37;40m 🐶 Rover: \u001b[1;0mBecause we are using\u001b[1;0m \u001b[1;32m matplotlib\u001b[1;0m \u001b[1;0m, we should import it!\u001b[1;0m\n",
      "✅ Fill in the command below. Because we are using only pyplot, write matplotlib.pyplot\n",
      "import matplotlib.pyplot\n",
      "\u001b[1;35m🤩 You rock!\u001b[1;0m\n",
      " 🐶 Rover: Did you know that you can use as to assign a library to a variable? \n",
      " ✅ Try typing import matplotlib.pyplot as plt below!\n",
      "import matplotlib.pyplot as plt\n",
      "\u001b[1;35m🤩 You're picking up on this really well!\u001b[1;0m\n"
     ]
    }
   ],
   "source": [
    "#❗️Run this cell\n",
    "i.challenge5a()"
   ]
  },
  {
   "cell_type": "markdown",
   "metadata": {},
   "source": [
    "### 📕 Debrief: Visualizing Data\n",
    "\n",
    "Before you do any plot, you will always need to think about what's called the `x` and `y` axis. The data that you use for the `x` piece is usually the one that causes things to change, and the `y` piece is the data that changes because of `x`. If you don't totally understand right now, that's okay! We will go over some examples. \n",
    "\n",
    "**For now, just know that there are many different ways that we can visualize data, and that we usually choose one depending on the data we are working with.**\n",
    "\n",
    "📙 `plt.bar(column_x, column_y)`: Creates a Bar Graph, needs the x column to be a category and the y column to be numerical\n",
    "\n",
    "📙 `plt.hist(column_x)`: Creates a Histogram, needs an x column that is numerical\n",
    "\n",
    "📙 `plt.plot(column_x, column_y`): Creates a Line graph, x column must be numerical, if y column is not given it will use the row numbers \n",
    "\n",
    "📙 `plt.scatter(column_x, column_y)`: Creates a scatterplot, where both x and y columns need to be numerical\n"
   ]
  },
  {
   "cell_type": "code",
   "execution_count": 3,
   "metadata": {},
   "outputs": [
    {
     "name": "stdout",
     "output_type": "stream",
     "text": [
      "\u001b[1;37;40m 🐶 Rover: \u001b[1;0mNow that we've imported the package. let's try making some graphs! I'm so excited!!\u001b[1;0m\n",
      "✅ Try making a bar plot of the Species as the x column, and the legs as the Y column. Let's see what we find!\n",
      "plt.bar(Species, legs)\n",
      "\u001b[1;31m❗️ Hmm, not quite. How about trying \u001b[1;0m \u001b[1;32mplt.bar(pets['Species'], pets['Legs'])\u001b[1;0m\n",
      "✅ Try making a bar plot of the Species as the x column, and the legs as the Y column. Let's see what we find!\n",
      "pltplt.bar(pets['Species'], pets['Legs'])\n",
      "\u001b[1;31m❗️ Hmm, not quite. How about trying \u001b[1;0m \u001b[1;32mplt.bar(pets['Species'], pets['Legs'])\u001b[1;0m\n",
      "✅ Try making a bar plot of the Species as the x column, and the legs as the Y column. Let's see what we find!\n",
      "plt.bar(pets[\"Species\"], pets[\"Legs\"])\n",
      "\u001b[1;31m❗️ Hmm, not quite. How about trying \u001b[1;0m \u001b[1;32mplt.bar(pets['Species'], pets['Legs'])\u001b[1;0m\n",
      "✅ Try making a bar plot of the Species as the x column, and the legs as the Y column. Let's see what we find!\n",
      "plt.bar(pets[\"Species\"], pets[\"Legs\"])\n",
      "\u001b[1;31m❗️ Hmm, not quite. How about trying \u001b[1;0m \u001b[1;32mplt.bar(pets['Species'], pets['Legs'])\u001b[1;0m\n",
      "✅ Try making a bar plot of the Species as the x column, and the legs as the Y column. Let's see what we find!\n",
      "plt.bar(pets[\"Species\"], pets[\"Legs\"])\n",
      "\u001b[1;31m❗️ Hmm, not quite. How about trying \u001b[1;0m \u001b[1;32mplt.bar(pets['Species'], pets['Legs'])\u001b[1;0m\n",
      "✅ Try making a bar plot of the Species as the x column, and the legs as the Y column. Let's see what we find!\n",
      "plt.bar(\"Species\", \"Legs\")\n",
      "\u001b[1;31m❗️ Hmm, not quite. How about trying \u001b[1;0m \u001b[1;32mplt.bar(pets['Species'], pets['Legs'])\u001b[1;0m\n",
      "✅ Try making a bar plot of the Species as the x column, and the legs as the Y column. Let's see what we find!\n",
      "plt.bar(pets['Species'], pets['Legs'])\n",
      "\u001b[1;35m🎉 Glad we have you around!\u001b[1;0m\n"
     ]
    },
    {
     "data": {
      "image/png": "[encoded data removed]",
      "text/plain": [
       "<Figure size 432x288 with 1 Axes>"
      ]
     },
     "metadata": {
      "needs_background": "light"
     },
     "output_type": "display_data"
    }
   ],
   "source": [
    "#❗️Run this cell\n",
    "i.challenge5b()"
   ]
  },
  {
   "cell_type": "code",
   "execution_count": 4,
   "metadata": {},
   "outputs": [
    {
     "name": "stdout",
     "output_type": "stream",
     "text": [
      "\u001b[1;37;40m 🐶 Rover: \u001b[1;0mLet's try making a histogram now! \u001b[1;0m\n",
      "✅ Let's try making a histogram now! Can you fill in this command to create a histogram of the Species column? \n",
      "plt.hist('Species')\n",
      "\u001b[1;31m❗️ Hmm, not quite. How about trying \u001b[1;0m \u001b[1;32mplt.hist(pets['Species'])\u001b[1;0m\n",
      "✅ Let's try making a histogram now! Can you fill in this command to create a histogram of the Species column? \n",
      "pltplt.hist(pets['Species'])\n",
      "\u001b[1;31m❗️ Hmm, not quite. How about trying \u001b[1;0m \u001b[1;32mplt.hist(pets['Species'])\u001b[1;0m\n",
      "✅ Let's try making a histogram now! Can you fill in this command to create a histogram of the Species column? \n",
      "plt.hist(pets['Species'])\n",
      "\u001b[1;35m🌟 You rock!\u001b[1;0m\n"
     ]
    },
    {
     "data": {
      "image/png": "[encoded data removed]",
      "text/plain": [
       "<Figure size 432x288 with 1 Axes>"
      ]
     },
     "metadata": {
      "needs_background": "light"
     },
     "output_type": "display_data"
    }
   ],
   "source": [
    "#❗️Run this cell\n",
    "i.challenge5c() "
   ]
  },
  {
   "cell_type": "code",
   "execution_count": 5,
   "metadata": {},
   "outputs": [
    {
     "name": "stdout",
     "output_type": "stream",
     "text": [
      "\u001b[1;37;40m 🐶 Rover: \u001b[1;0mLet's try making a scatterplot now! These are my favourite!\u001b[1;0m\n",
      "✅ Can you fill in this command to create a scatterplot using Age as the x column and y as the Weight column? \n",
      "plt.plot(pets[\"Age\"], pets[\"Weight\"])\n",
      "\u001b[1;31m❗️ Hmm, not quite. How about trying \u001b[1;0m \u001b[1;32mplt.scatter(pets['Age (years)'], pets['Weight (lbs)'])\u001b[1;0m\n",
      "✅ Can you fill in this command to create a scatterplot using Age as the x column and y as the Weight column? \n",
      "plt.scatter(pets['Age (years)'], pets['Weight (lbs)'])\n",
      "\u001b[1;35m🌟 Correct!\u001b[1;0m\n"
     ]
    },
    {
     "data": {
      "image/png": "[encoded data removed]",
      "text/plain": [
       "<Figure size 432x288 with 1 Axes>"
      ]
     },
     "metadata": {
      "needs_background": "light"
     },
     "output_type": "display_data"
    }
   ],
   "source": [
    "#❗️Run this cell\n",
    "i.challenge5d() "
   ]
  },
  {
   "cell_type": "code",
   "execution_count": 6,
   "metadata": {},
   "outputs": [
    {
     "name": "stdout",
     "output_type": "stream",
     "text": [
      "\u001b[1;37;40m 🐶 Rover: \u001b[1;0mLet's try making a line plot now! \u001b[1;0m\n",
      "✅ Can you fill in this command to create a line plot with the Time to Adoption (weeks) column? \n",
      "plt.plot(pets[\" Time to Adoption (weeks)\"])\n",
      "\u001b[1;31m❗️ Hmm, not quite. How about trying \u001b[1;0m \u001b[1;32mplt.plot(pets['Time to Adoption (weeks)'])\u001b[1;0m\n",
      "✅ Can you fill in this command to create a line plot with the Time to Adoption (weeks) column? \n",
      "plt.plot(pets['Time to Adoption (weeks)'])\n",
      "\u001b[1;35m🎉 Right on!\u001b[1;0m\n"
     ]
    },
    {
     "data": {
      "image/png": "[encoded data removed]",
      "text/plain": [
       "<Figure size 432x288 with 1 Axes>"
      ]
     },
     "metadata": {
      "needs_background": "light"
     },
     "output_type": "display_data"
    }
   ],
   "source": [
    "#❗️Run this cell\n",
    "i.challenge5e() "
   ]
  },
  {
   "cell_type": "markdown",
   "metadata": {},
   "source": [
    "# 📚 Challenge Complete!\n",
    "\n",
    "### What are some things you noticed in each chart? Write down an observation for the bar plot, histogram, scatterplot, and lineplot that we made!"
   ]
  },
  {
   "cell_type": "markdown",
   "metadata": {},
   "source": [
    "The bar plot code is plt.bar(pets['Species'], pets['Legs']), and the first column has to be category and the second column has to be numerical. Moreover, the bar graph averages all the legs of the animals, written in the chart, for example, we learned in the last notebooks that one dog had 3 legs but that would be not considered here. The bar graph tells us the tarntula has eight legs which is the largest amount of legs\n",
    "\n",
    "The Histogram code is plt.hist(pets['Species']), and their is only one column that needs to be filled, which contains numerical values. Like a bar graph, the \"Species\" values listed below, are organized in alphabetical manner  by the computer. The Histogram tells us that there are 15 dogs, who make up most of the species.\n",
    "\n",
    "The Scatterplot code is plt.scatter(pets['Age (years)'], pets['Weight (lbs)']), where both x and y have to be numerical values. The Scatterplot tells us that pets have around the same weight in their starting years but as the years pass by, the weight can really vary according to the type of animal. \n",
    "\n",
    "The Lineplot code is plt.plot(pets['Time to Adoption (weeks)']), and the x column must be numerical, and that y is not necessary to be given and the computer by default will use the row numbers for y. We can tell that the time to adoption really varys according to each row number, animals, and their characteristics. We can understand that the 'time to adoption' is not consistent. "
   ]
  },
  {
   "cell_type": "markdown",
   "metadata": {},
   "source": [
    "### <p style=\"text-align: right;\"> ...continue to [Challenge 6!](./challenge-6.ipynb)</p>"
   ]
  },
  {
   "cell_type": "markdown",
   "metadata": {},
   "source": [
    "# <p style=\"text-align: center;\"> 🌟🌟🌟🌟🌟🌟🌟🌟🌟🌟🌟🌟🌟🌟🌟🌟🌟🌟🌟🌟🌟🌟🌟🌟🌟🌟🌟🌟🌟🌟 </p>\n"
   ]
  },
  {
   "cell_type": "markdown",
   "metadata": {},
   "source": [
    "[![Callysto.ca License](https://github.com/callysto/curriculum-notebooks/blob/master/callysto-notebook-banner-bottom.jpg?raw=true)](https://github.com/callysto/curriculum-notebooks/blob/master/LICENSE.md)"
   ]
  }
 ],
 "metadata": {
  "kernelspec": {
   "display_name": "Python 3",
   "language": "python",
   "name": "python3"
  },
  "language_info": {
   "codemirror_mode": {
    "name": "ipython",
    "version": 3
   },
   "file_extension": ".py",
   "mimetype": "text/x-python",
   "name": "python",
   "nbconvert_exporter": "python",
   "pygments_lexer": "ipython3",
   "version": "3.8.4"
  }
 },
 "nbformat": 4,
 "nbformat_minor": 4
}

{
 "cells": [
  {
   "cell_type": "markdown",
   "metadata": {},
   "source": [
    "![Callysto.ca Banner](https://github.com/callysto/curriculum-notebooks/blob/master/callysto-notebook-banner-top.jpg?raw=true)\n",
    "\n",
    "<a href=\"https://hub.callysto.ca/jupyter/hub/user-redirect/git-pull?repo=https%3A%2F%2Fgithub.com%2Fcallysto%2Fhackathon&branch=master&subPath=SustainabilityOnMars/CuriosityTrack/challenge-6.ipynb&depth=1\" target=\"_parent\"><img src=\"https://raw.githubusercontent.com/callysto/curriculum-notebooks/master/open-in-callysto-button.svg?sanitize=true\" width=\"123\" height=\"24\" alt=\"Open in Callysto\"/></a>"
   ]
  },
  {
   "cell_type": "markdown",
   "metadata": {},
   "source": [
    "# <p style=\"text-align: center;\">  📌 Challenge 6: Drawing a Conclusion & Sending Them Off! </p>\n",
    "\n",
    "Double click on the cells with pencils on them and fill them in. After you're done, run the cell and save the notebook!\n",
    "\n",
    "![https://publicdomainvectors.org/en/free-clipart/Rocket-in-space-vector-clip-art/78567.html](Images/spaceship.jpg)\n",
    "# <p style=\"text-align: center;\"> 🌟🌟🌟🌟🌟🌟🌟🌟🌟🌟🌟🌟🌟🌟🌟🌟🌟🌟🌟🌟🌟🌟🌟🌟🌟🌟🌟🌟🌟🌟 </p>\n"
   ]
  },
  {
   "cell_type": "markdown",
   "metadata": {},
   "source": [
    "## ✏️ List 3 observations about the data you've noticed\n",
    "\n",
    "1. In the dataset, there are lots more dogs and cats than other animals.\n",
    "\n",
    "2. Most of the pets in the dataset have four legs.\n",
    "\n",
    "3. There is a large variety of weights of pets in the dataset.\n"
   ]
  },
  {
   "cell_type": "markdown",
   "metadata": {},
   "source": [
    "# <p style=\"text-align: center;\"> 🌟🌟🌟🌟🌟🌟🌟🌟🌟🌟🌟🌟🌟🌟🌟🌟🌟🌟🌟🌟🌟🌟🌟🌟🌟🌟🌟🌟🌟🌟 </p>\n",
    "\n",
    "## ✏️ Which pets would you bring to Mars? Use your observations from above to justify your answer. \n",
    "\n",
    "### **Pets:**\n",
    "1. Kujo\n",
    "\n",
    "2. Midnight\n",
    "\n",
    "3. Hercules\n",
    "\n",
    "4. Sasha\n",
    "\n",
    "5. Max\n",
    "\n",
    "### **Reasoning:**\n",
    "\n",
    "1. Kujo is quite heavy dog meaning he is best suited for this mission because Mars has less gravity. On Mars, Kujo would only weigh about 64.8 lbs compared to his regular 172 lbs. Kujo is a not fixed male, meaning he can be used to help repopulate dogs in the future.\n",
    "\n",
    "2. Midnight is a female dog who is not fixed meaning that she can also help repopulate. Her weight on Earth is 112 lbs but it is only 42.2 lbs on Mars. Breeding two dogs that are quite heavy will most likely pass down those genes, making heavier dogs better suited to low gravity areas.\n",
    "\n",
    "3. Max is a male dog who is not fixed. He is only three years now, meaning he will outlive Kujo. His weight on Earth is 52.8 lbs meaning it will only be 19.9 lbs on Mars.\n",
    "\n",
    "4. Hercules is a male cat who is not fixed. He weighs 13.4 lbs on earth, therefore weighs about 5 lbs on Mars. This is fairly heavy for a cat his age.\n",
    "\n",
    "5. Sasha is a female cat who is also not fixed. She weighs 6.5 lbs on earth, therefore weighs about 2.4 lbs on Mars. She will be used to help grow the cat population on Mars. Sasha is avradge weight for a cat her age, therefore will be able to create a decent-sized offspring that is better suited to low gravity areas.\n"
   ]
  },
  {
   "cell_type": "markdown",
   "metadata": {},
   "source": [
    "# 📚 Challenge Complete!\n",
    "Great job! You completed the last challenge. \n",
    "# <p style=\"text-align: center;\"> 🌟🌟🌟🌟🌟🌟🌟🌟🌟🌟🌟🌟🌟🌟🌟🌟🌟🌟🌟🌟🌟🌟🌟🌟🌟🌟🌟🌟🌟🌟 </p>\n",
    "Thank you! I had lots of fun!\n"
   ]
  },
  {
   "cell_type": "markdown",
   "metadata": {},
   "source": [
    "[![Callysto.ca License](https://github.com/callysto/curriculum-notebooks/blob/master/callysto-notebook-banner-bottom.jpg?raw=true)](https://github.com/callysto/curriculum-notebooks/blob/master/LICENSE.md)"
   ]
  }
 ],
 "metadata": {
  "kernelspec": {
   "display_name": "Python 3",
   "language": "python",
   "name": "python3"
  },
  "language_info": {
   "codemirror_mode": {
    "name": "ipython",
    "version": 3
   },
   "file_extension": ".py",
   "mimetype": "text/x-python",
   "name": "python",
   "nbconvert_exporter": "python",
   "pygments_lexer": "ipython3",
   "version": "3.8.4"
  }
 },
 "nbformat": 4,
 "nbformat_minor": 4
}

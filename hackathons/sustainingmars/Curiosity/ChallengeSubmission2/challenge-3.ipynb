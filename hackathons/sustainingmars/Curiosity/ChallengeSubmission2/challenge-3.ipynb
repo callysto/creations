{
 "cells": [
  {
   "cell_type": "markdown",
   "metadata": {},
   "source": [
    "![Callysto.ca Banner](https://github.com/callysto/curriculum-notebooks/blob/master/callysto-notebook-banner-top.jpg?raw=true)\n",
    "\n",
    "<a href=\"https://hub.callysto.ca/jupyter/hub/user-redirect/git-pull?repo=https%3A%2F%2Fgithub.com%2Fcallysto%2Fhackathon&branch=master&subPath=SustainabilityOnMars/CuriosityTrack/challenge-3.ipynb&depth=1\" target=\"_parent\"><img src=\"https://raw.githubusercontent.com/callysto/curriculum-notebooks/master/open-in-callysto-button.svg?sanitize=true\" width=\"123\" height=\"24\" alt=\"Open in Callysto\"/></a>"
   ]
  },
  {
   "cell_type": "markdown",
   "metadata": {},
   "source": [
    "# <p style=\"text-align: center;\"> 📌 Challenge 3: Narrowing Down the Data </p>\n",
    "\n",
    "You've done great getting to this point. Now that we are getting more comfortable with data science, let's work on our skills at narrowing down the data. This will help us narrow down *which* pets we should consider based on different criteria. This part might get a little tough, so make sure you ask for help if you get stuck!\n",
    "\n",
    "![https://publicdomainvectors.org/en/free-clipart/Open-book-and-magnifying-glass/85092.html](Images/magnify.jpg)\n",
    "# <p style=\"text-align: center;\"> 🌟🌟🌟🌟🌟🌟🌟🌟🌟🌟🌟🌟🌟🌟🌟🌟🌟🌟🌟🌟🌟🌟🌟🌟🌟🌟🌟🌟🌟🌟 </p>\n"
   ]
  },
  {
   "cell_type": "code",
   "execution_count": null,
   "metadata": {},
   "outputs": [],
   "source": [
    "#❗️Run this cell\n",
    "import interactive as i\n",
    "from IPython.display import YouTubeVideo\n",
    "YouTubeVideo('gCcyJdQyvjo')"
   ]
  },
  {
   "cell_type": "markdown",
   "metadata": {},
   "source": [
    "### 📕 Debrief: Getting Unique Entries in a Column\n",
    "\n",
    "**Unique Values `.unique()`**: Sometimes instead of viewing all the values in a column, we just want to see the different types of values instead. For example, in this dataset it can be useful to know what types of animals there are without knowing all of them. We can do this by writing `dataset.[\"column_name\"].unique()`. Note the `.unique()` is at the end. "
   ]
  },
  {
   "cell_type": "code",
   "execution_count": 8,
   "metadata": {},
   "outputs": [
    {
     "name": "stdout",
     "output_type": "stream",
     "text": [
      "\u001b[1;37;40m 🐶 Rover: \u001b[1;0mNow, because all the pet names are unique we should try using another column of data.\n",
      "Hmm, how about animal types? Or better yet, the number of legs on each animal!\u001b[1;0m\n",
      "✅ Fill in the command to get the unique values for the number of legs in the pets data\n",
      "petlegs = pets[\"Legs\"].unique()\n",
      "\u001b[1;35m🤩 Glad we have you around!\u001b[1;0m\n"
     ]
    },
    {
     "data": {
      "text/plain": [
       "array([4, 3, 8])"
      ]
     },
     "execution_count": 8,
     "metadata": {},
     "output_type": "execute_result"
    }
   ],
   "source": [
    "#❗️Run this cell\n",
    "i.challenge3a()"
   ]
  },
  {
   "cell_type": "markdown",
   "metadata": {},
   "source": [
    "### 📕 Debrief: Narrowing Down Data Based on Criteria\n",
    "\n",
    "**Basic Operators**: In computer programming languages, we can do a lot of things using basic math alone. With data, we can use symbols like `>, <, ==, %, /, *` and others to do cool things. \n",
    "\n",
    "For instance, if we wanted to select all entries in a dataset's column with a value above 5, we could do `dataset[\"column_name\"] >= 5`. This will give us the all of the matching data entries who's value in the column is greater or equal to 5. \n",
    "\n",
    "We can also use words as long as they are in quotes (case-sensitive), such as `dataset[\"column_name\"] == \"searchterm\"`. The `==` means that it has to be exactly that.\n",
    "\n",
    "**Logical Operators**: To use more than one we need to use a logical operators. For example, `&` means and, `|` (vertical bar) means or, and `~` means not. Therefore we can do something like: `dataset[\"column_name\"] >= 5 & dataset[\"column_name\"] < 10` or even: `dataset[\"column_name\"] >= 5 | dataset[\"column_name\"] < 2 ` \n",
    "\n",
    "*Learn more about operators [here](https://www.w3schools.com/python/python_operators.asp).*"
   ]
  },
  {
   "cell_type": "code",
   "execution_count": 9,
   "metadata": {},
   "outputs": [
    {
     "name": "stdout",
     "output_type": "stream",
     "text": [
      "\u001b[1;37;40m 🐶 Rover: \u001b[1;0mBased on the last challenge, it seems we have a 3 legged animal! Do you know any reason why that might be?\n",
      "Let's try and find out which animals are 3 legged.\u001b[1;0m\n",
      "\u001b[1;37;40m 🐶 Rover: \u001b[1;0mFirst, we'll need to use a basic operator on the 'Legs' column to find the ones that equal to 3.\u001b[1;0m\n",
      "✅ Try filling in the command\n",
      "pets['Legs'] == 3\n",
      "\u001b[1;35m😎 What a rockstar coder!\u001b[1;0m\n"
     ]
    },
    {
     "data": {
      "text/plain": [
       "0     False\n",
       "1     False\n",
       "2     False\n",
       "3     False\n",
       "4     False\n",
       "5     False\n",
       "6     False\n",
       "7     False\n",
       "8     False\n",
       "9     False\n",
       "10    False\n",
       "11    False\n",
       "12    False\n",
       "13    False\n",
       "14    False\n",
       "15    False\n",
       "16    False\n",
       "17    False\n",
       "18    False\n",
       "19     True\n",
       "20    False\n",
       "21    False\n",
       "22    False\n",
       "23    False\n",
       "24    False\n",
       "25    False\n",
       "26    False\n",
       "27    False\n",
       "28    False\n",
       "29    False\n",
       "30    False\n",
       "Name: Legs, dtype: bool"
      ]
     },
     "metadata": {},
     "output_type": "display_data"
    }
   ],
   "source": [
    "#❗️Run this cell\n",
    "i.challenge3b()"
   ]
  },
  {
   "cell_type": "markdown",
   "metadata": {},
   "source": [
    "### 📕 Debrief: Locating a Data Entry\n",
    "\n",
    "**Locating Data Using Labels `.loc`**: You may notice that when doing the above you only get `True/False` values. We can get the actual rows of data by using by using `dataset.loc[label]`. Basic operators can act as labels. For example, I can use something like: \n",
    "`dataset.loc[dataset[\"column_name\"] >= 5]` to get all the rows with a value of greater than 5 for a given column. You can also have multiple operators, such as `.loc[basic_operator1 & basic_operator2]`.\n",
    "\n",
    "We can get the actual rows of data by using by using `dataset.loc[label]` such as getting data from row 30 you would use `dataset.loc[30]`."
   ]
  },
  {
   "cell_type": "code",
   "execution_count": 14,
   "metadata": {},
   "outputs": [
    {
     "name": "stdout",
     "output_type": "stream",
     "text": [
      "\u001b[1;37;40m 🐶 Rover: \u001b[1;0mLooks like there's only one row that returns \u001b[1;0m \u001b[1;32mTrue \u001b[1;0m \u001b[1;0mcan you use \u001b[1;0m \u001b[1;32m.loc\u001b[1;0m \u001b[1;0m to find out more?\u001b[1;0m\n",
      "✅ Fill in the command:\n",
      "pets.loc[[19]]\n",
      "\u001b[1;35m🤩 You're out of this world!\u001b[1;0m\n"
     ]
    },
    {
     "data": {
      "text/html": [
       "<div>\n",
       "<style scoped>\n",
       "    .dataframe tbody tr th:only-of-type {\n",
       "        vertical-align: middle;\n",
       "    }\n",
       "\n",
       "    .dataframe tbody tr th {\n",
       "        vertical-align: top;\n",
       "    }\n",
       "\n",
       "    .dataframe thead th {\n",
       "        text-align: right;\n",
       "    }\n",
       "</style>\n",
       "<table border=\"1\" class=\"dataframe\">\n",
       "  <thead>\n",
       "    <tr style=\"text-align: right;\">\n",
       "      <th></th>\n",
       "      <th>Name</th>\n",
       "      <th>Species</th>\n",
       "      <th>Gender</th>\n",
       "      <th>Age (years)</th>\n",
       "      <th>Fixed</th>\n",
       "      <th>Legs</th>\n",
       "      <th>Weight (lbs)</th>\n",
       "      <th>Time to Adoption (weeks)</th>\n",
       "    </tr>\n",
       "  </thead>\n",
       "  <tbody>\n",
       "    <tr>\n",
       "      <th>19</th>\n",
       "      <td>Lucky</td>\n",
       "      <td>dog</td>\n",
       "      <td>male</td>\n",
       "      <td>3</td>\n",
       "      <td>True</td>\n",
       "      <td>3</td>\n",
       "      <td>45.4</td>\n",
       "      <td>9</td>\n",
       "    </tr>\n",
       "  </tbody>\n",
       "</table>\n",
       "</div>"
      ],
      "text/plain": [
       "     Name Species Gender  Age (years)  Fixed  Legs  Weight (lbs)  \\\n",
       "19  Lucky     dog   male            3   True     3          45.4   \n",
       "\n",
       "    Time to Adoption (weeks)  \n",
       "19                         9  "
      ]
     },
     "metadata": {},
     "output_type": "display_data"
    }
   ],
   "source": [
    "#❗️Run this cell\n",
    "i.challenge3c()"
   ]
  },
  {
   "cell_type": "code",
   "execution_count": 16,
   "metadata": {},
   "outputs": [
    {
     "name": "stdout",
     "output_type": "stream",
     "text": [
      "✅ Awesome! Now try to write an operator that can find all animals over 100 pounds!\n",
      "pets.loc[pets[\"Weight (lbs)\"] >= \"100\"]\n",
      "\u001b[1;31m❗️ Try \u001b[1;0m \u001b[1;32m[pets[\"column_name\"] > number_of_lbs] \u001b[1;0m \u001b[1;31mwhere the column is 'Weight (lbs)' and number of lbs is 100 Remember: spelling and spaces matter!\u001b[1;0m\n",
      "✅ Awesome! Now try to write an operator that can find all animals over 100 pounds!\n",
      "pets.loc[pets[\"Weight (lbs)\"] > 100]\n",
      "\u001b[1;35m🎉 What a rockstar coder!\u001b[1;0m\n"
     ]
    },
    {
     "data": {
      "text/html": [
       "<div>\n",
       "<style scoped>\n",
       "    .dataframe tbody tr th:only-of-type {\n",
       "        vertical-align: middle;\n",
       "    }\n",
       "\n",
       "    .dataframe tbody tr th {\n",
       "        vertical-align: top;\n",
       "    }\n",
       "\n",
       "    .dataframe thead th {\n",
       "        text-align: right;\n",
       "    }\n",
       "</style>\n",
       "<table border=\"1\" class=\"dataframe\">\n",
       "  <thead>\n",
       "    <tr style=\"text-align: right;\">\n",
       "      <th></th>\n",
       "      <th>Name</th>\n",
       "      <th>Species</th>\n",
       "      <th>Gender</th>\n",
       "      <th>Age (years)</th>\n",
       "      <th>Fixed</th>\n",
       "      <th>Legs</th>\n",
       "      <th>Weight (lbs)</th>\n",
       "      <th>Time to Adoption (weeks)</th>\n",
       "    </tr>\n",
       "  </thead>\n",
       "  <tbody>\n",
       "    <tr>\n",
       "      <th>9</th>\n",
       "      <td>Boo-boo</td>\n",
       "      <td>dog</td>\n",
       "      <td>male</td>\n",
       "      <td>11</td>\n",
       "      <td>True</td>\n",
       "      <td>4</td>\n",
       "      <td>123.0</td>\n",
       "      <td>24</td>\n",
       "    </tr>\n",
       "    <tr>\n",
       "      <th>13</th>\n",
       "      <td>Midnight</td>\n",
       "      <td>dog</td>\n",
       "      <td>female</td>\n",
       "      <td>5</td>\n",
       "      <td>False</td>\n",
       "      <td>4</td>\n",
       "      <td>112.0</td>\n",
       "      <td>4</td>\n",
       "    </tr>\n",
       "    <tr>\n",
       "      <th>18</th>\n",
       "      <td>Mr. Peanutbutter</td>\n",
       "      <td>dog</td>\n",
       "      <td>male</td>\n",
       "      <td>10</td>\n",
       "      <td>False</td>\n",
       "      <td>4</td>\n",
       "      <td>161.0</td>\n",
       "      <td>6</td>\n",
       "    </tr>\n",
       "    <tr>\n",
       "      <th>20</th>\n",
       "      <td>Kujo</td>\n",
       "      <td>dog</td>\n",
       "      <td>male</td>\n",
       "      <td>8</td>\n",
       "      <td>False</td>\n",
       "      <td>4</td>\n",
       "      <td>172.0</td>\n",
       "      <td>30</td>\n",
       "    </tr>\n",
       "  </tbody>\n",
       "</table>\n",
       "</div>"
      ],
      "text/plain": [
       "                Name Species  Gender  Age (years)  Fixed  Legs  Weight (lbs)  \\\n",
       "9            Boo-boo     dog    male           11   True     4         123.0   \n",
       "13          Midnight     dog  female            5  False     4         112.0   \n",
       "18  Mr. Peanutbutter     dog    male           10  False     4         161.0   \n",
       "20              Kujo     dog    male            8  False     4         172.0   \n",
       "\n",
       "    Time to Adoption (weeks)  \n",
       "9                         24  \n",
       "13                         4  \n",
       "18                         6  \n",
       "20                        30  "
      ]
     },
     "metadata": {},
     "output_type": "display_data"
    },
    {
     "name": "stdout",
     "output_type": "stream",
     "text": [
      "\u001b[1;37;40m 🐶 Rover: \u001b[1;0mWow! You're really good. I always had trouble with doing that stuff. How about we try to do both at once? I think the format was \u001b[1;0m \u001b[1;32mpets.loc[(operator1) & (operator2)]\u001b[1;0m\n",
      "✅ Try to combine the two operators you wrote previously. Remember to always have matching brackets!\n",
      "pets.loc[pets[\"Species\"] == [\"dog\"]] & [pets[\"Weight(lbs)\"] > 100]\n",
      "\u001b[1;31m❗️ This one is definitely tricky! Try seeing what you may have missed by comparing your answer to this: \n",
      "\u001b[1;0m \u001b[1;32mpets.loc[(pets['Weight (lbs)'] > 100) & (pets['Species'] == 'dog')] \u001b[1;0m \u001b[1;31m\n",
      "Note that when we have 2 or more, we need to separate them by putting each one in \u001b[1;0m \u001b[1;32m( )\u001b[1;0m\n",
      "✅ Try to combine the two operators you wrote previously. Remember to always have matching brackets!\n",
      "pets.loc[(pets[\"Weight (lbs)\"] > 100) & (pets[\"Species\"] == \"dog\")]\n",
      "\u001b[1;35m🚀 You're out of this world!\u001b[1;0m\n"
     ]
    },
    {
     "data": {
      "text/html": [
       "<div>\n",
       "<style scoped>\n",
       "    .dataframe tbody tr th:only-of-type {\n",
       "        vertical-align: middle;\n",
       "    }\n",
       "\n",
       "    .dataframe tbody tr th {\n",
       "        vertical-align: top;\n",
       "    }\n",
       "\n",
       "    .dataframe thead th {\n",
       "        text-align: right;\n",
       "    }\n",
       "</style>\n",
       "<table border=\"1\" class=\"dataframe\">\n",
       "  <thead>\n",
       "    <tr style=\"text-align: right;\">\n",
       "      <th></th>\n",
       "      <th>Name</th>\n",
       "      <th>Species</th>\n",
       "      <th>Gender</th>\n",
       "      <th>Age (years)</th>\n",
       "      <th>Fixed</th>\n",
       "      <th>Legs</th>\n",
       "      <th>Weight (lbs)</th>\n",
       "      <th>Time to Adoption (weeks)</th>\n",
       "    </tr>\n",
       "  </thead>\n",
       "  <tbody>\n",
       "    <tr>\n",
       "      <th>9</th>\n",
       "      <td>Boo-boo</td>\n",
       "      <td>dog</td>\n",
       "      <td>male</td>\n",
       "      <td>11</td>\n",
       "      <td>True</td>\n",
       "      <td>4</td>\n",
       "      <td>123.0</td>\n",
       "      <td>24</td>\n",
       "    </tr>\n",
       "    <tr>\n",
       "      <th>13</th>\n",
       "      <td>Midnight</td>\n",
       "      <td>dog</td>\n",
       "      <td>female</td>\n",
       "      <td>5</td>\n",
       "      <td>False</td>\n",
       "      <td>4</td>\n",
       "      <td>112.0</td>\n",
       "      <td>4</td>\n",
       "    </tr>\n",
       "    <tr>\n",
       "      <th>18</th>\n",
       "      <td>Mr. Peanutbutter</td>\n",
       "      <td>dog</td>\n",
       "      <td>male</td>\n",
       "      <td>10</td>\n",
       "      <td>False</td>\n",
       "      <td>4</td>\n",
       "      <td>161.0</td>\n",
       "      <td>6</td>\n",
       "    </tr>\n",
       "    <tr>\n",
       "      <th>20</th>\n",
       "      <td>Kujo</td>\n",
       "      <td>dog</td>\n",
       "      <td>male</td>\n",
       "      <td>8</td>\n",
       "      <td>False</td>\n",
       "      <td>4</td>\n",
       "      <td>172.0</td>\n",
       "      <td>30</td>\n",
       "    </tr>\n",
       "  </tbody>\n",
       "</table>\n",
       "</div>"
      ],
      "text/plain": [
       "                Name Species  Gender  Age (years)  Fixed  Legs  Weight (lbs)  \\\n",
       "9            Boo-boo     dog    male           11   True     4         123.0   \n",
       "13          Midnight     dog  female            5  False     4         112.0   \n",
       "18  Mr. Peanutbutter     dog    male           10  False     4         161.0   \n",
       "20              Kujo     dog    male            8  False     4         172.0   \n",
       "\n",
       "    Time to Adoption (weeks)  \n",
       "9                         24  \n",
       "13                         4  \n",
       "18                         6  \n",
       "20                        30  "
      ]
     },
     "metadata": {},
     "output_type": "display_data"
    }
   ],
   "source": [
    "#❗️Run this cell\n",
    "i.challenge3d()"
   ]
  },
  {
   "cell_type": "markdown",
   "metadata": {},
   "source": [
    "# 📚 Challenge Complete!\n",
    "\n",
    "### What is the name of the three legged pet? **Write it down below!!**"
   ]
  },
  {
   "cell_type": "markdown",
   "metadata": {},
   "source": [
    "✏️    DOUBLE CLICK HERE AND PROVIDE YOUR ANSWER    ✏️ Lucky"
   ]
  },
  {
   "cell_type": "markdown",
   "metadata": {},
   "source": [
    "### <p style=\"text-align: right;\"> ...continue to [Challenge 4!](./challenge-4.ipynb)</p>"
   ]
  },
  {
   "cell_type": "markdown",
   "metadata": {},
   "source": [
    "# <p style=\"text-align: center;\"> 🌟🌟🌟🌟🌟🌟🌟🌟🌟🌟🌟🌟🌟🌟🌟🌟🌟🌟🌟🌟🌟🌟🌟🌟🌟🌟🌟🌟🌟🌟 </p>\n"
   ]
  },
  {
   "cell_type": "markdown",
   "metadata": {},
   "source": [
    "[![Callysto.ca License](https://github.com/callysto/curriculum-notebooks/blob/master/callysto-notebook-banner-bottom.jpg?raw=true)](https://github.com/callysto/curriculum-notebooks/blob/master/LICENSE.md)"
   ]
  }
 ],
 "metadata": {
  "kernelspec": {
   "display_name": "Python 3",
   "language": "python",
   "name": "python3"
  },
  "language_info": {
   "codemirror_mode": {
    "name": "ipython",
    "version": 3
   },
   "file_extension": ".py",
   "mimetype": "text/x-python",
   "name": "python",
   "nbconvert_exporter": "python",
   "pygments_lexer": "ipython3",
   "version": "3.8.4"
  }
 },
 "nbformat": 4,
 "nbformat_minor": 4
}
